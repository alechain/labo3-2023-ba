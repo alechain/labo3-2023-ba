{
 "cells": [
  {
   "cell_type": "code",
   "execution_count": 1,
   "metadata": {},
   "outputs": [
    {
     "name": "stderr",
     "output_type": "stream",
     "text": [
      "Matplotlib is building the font cache; this may take a moment.\n"
     ]
    }
   ],
   "source": [
    "import numpy as np\n",
    "import pandas as pd\n",
    "import seaborn as sns\n",
    "import matplotlib.pyplot as plt\n"
   ]
  },
  {
   "cell_type": "code",
   "execution_count": 2,
   "metadata": {},
   "outputs": [],
   "source": [
    "import numpy as np\n",
    "import pandas as pd\n",
    "import seaborn as sns\n",
    "import matplotlib.pyplot as plt\n",
    "import joblib\n",
    "from sklearn.preprocessing import LabelEncoder"
   ]
  },
  {
   "cell_type": "code",
   "execution_count": 3,
   "metadata": {},
   "outputs": [
    {
     "name": "stdout",
     "output_type": "stream",
     "text": [
      "Index([], dtype='object')\n"
     ]
    }
   ],
   "source": [
    "df = pd.read_parquet('/home/all4data118/buckets/b1/datasets/df_final_sellout_prod_client_final_total.parquet')\n",
    "tn_mas_cols = df.filter(like='tn_mas_1').columns\n",
    "print(tn_mas_cols)\n",
    "\n",
    "# train y test\n",
    "# train y test\n",
    "df=df[df.customer_id.isin([10001, 10002, 10003, 10004, 10005, 10006, 10007, 10008, 10009, 10011, 10012, 10013] )]\n",
    "df=df[df.product_id.isin([20001, 20002, 20003, 20004, 20005, 20006, 20007, 20009, 20011, 20032] )]\n",
    "df=df.reset_index(drop=True)\n",
    "X_predict=df.copy()"
   ]
  },
  {
   "cell_type": "code",
   "execution_count": 4,
   "metadata": {},
   "outputs": [],
   "source": [
    "X_predict=X_predict.drop(['id_row','tn_mas_2'],axis=1)\n"
   ]
  },
  {
   "cell_type": "code",
   "execution_count": 5,
   "metadata": {},
   "outputs": [],
   "source": [
    "# Identify categorical features based on their data types\n",
    "categorical_features = X_predict.select_dtypes(include=['object']).columns.tolist()\n"
   ]
  },
  {
   "cell_type": "code",
   "execution_count": 6,
   "metadata": {},
   "outputs": [],
   "source": [
    "# para subir depsues\n",
    "# Load the label encoders from the file\n",
    "label_encoders = joblib.load('/home/all4data118/buckets/b1/exp/model_es_b/client_product/label_encoders_2.joblib')\n",
    "\n",
    "# Assuming X_predict is your dataset and categorical_features is the list of categorical feature names\n",
    "# Apply the label encoders to the respective features\n",
    "# Apply the label encoders to the respective features\n",
    "for feature, label_encoder in label_encoders.items():\n",
    "    # Convert non-numeric values to numeric (e.g., using LabelEncoder directly)\n",
    "    X_predict[feature] = label_encoder.transform(X_predict[feature])\n"
   ]
  },
  {
   "cell_type": "code",
   "execution_count": 7,
   "metadata": {},
   "outputs": [],
   "source": [
    "X_predict=X_predict[X_predict.periodo==201912].reset_index(drop=True)"
   ]
  },
  {
   "cell_type": "code",
   "execution_count": 8,
   "metadata": {},
   "outputs": [
    {
     "data": {
      "text/html": [
       "<style type='text/css'>\n",
       ".datatable table.frame { margin-bottom: 0; }\n",
       ".datatable table.frame thead { border-bottom: none; }\n",
       ".datatable table.frame tr.coltypes td {  color: #FFFFFF;  line-height: 6px;  padding: 0 0.5em;}\n",
       ".datatable .bool    { background: #DDDD99; }\n",
       ".datatable .object  { background: #565656; }\n",
       ".datatable .int     { background: #5D9E5D; }\n",
       ".datatable .float   { background: #4040CC; }\n",
       ".datatable .str     { background: #CC4040; }\n",
       ".datatable .time    { background: #40CC40; }\n",
       ".datatable .row_index {  background: var(--jp-border-color3);  border-right: 1px solid var(--jp-border-color0);  color: var(--jp-ui-font-color3);  font-size: 9px;}\n",
       ".datatable .frame tbody td { text-align: left; }\n",
       ".datatable .frame tr.coltypes .row_index {  background: var(--jp-border-color0);}\n",
       ".datatable th:nth-child(2) { padding-left: 12px; }\n",
       ".datatable .hellipsis {  color: var(--jp-cell-editor-border-color);}\n",
       ".datatable .vellipsis {  background: var(--jp-layout-color0);  color: var(--jp-cell-editor-border-color);}\n",
       ".datatable .na {  color: var(--jp-cell-editor-border-color);  font-size: 80%;}\n",
       ".datatable .sp {  opacity: 0.25;}\n",
       ".datatable .footer { font-size: 9px; }\n",
       ".datatable .frame_dimensions {  background: var(--jp-border-color3);  border-top: 1px solid var(--jp-border-color0);  color: var(--jp-ui-font-color3);  display: inline-block;  opacity: 0.6;  padding: 1px 10px 1px 5px;}\n",
       ".datatable .frame thead tr.colnames {  background-image: url('data:image/png;base64,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');  background-repeat: repeat-x;  background-size: 14px;  height: 28px;}\n",
       "</style>\n"
      ],
      "text/plain": [
       "<IPython.core.display.HTML object>"
      ]
     },
     "metadata": {},
     "output_type": "display_data"
    }
   ],
   "source": [
    "import optuna\n",
    "import numpy as np\n",
    "from lightgbm import LGBMRegressor\n",
    "from sklearn.metrics import mean_squared_error\n",
    "import joblib\n",
    "\n",
    "from lightgbm import LGBMRegressor\n",
    "import numpy as np\n",
    "import pandas as pd\n",
    "from sklearn.model_selection import KFold\n",
    "from sklearn.metrics import mean_squared_error\n",
    "from sklearn.preprocessing import LabelEncoder\n",
    "from sklearn.model_selection import train_test_split\n",
    "import optuna\n",
    "\n"
   ]
  },
  {
   "cell_type": "code",
   "execution_count": 17,
   "metadata": {},
   "outputs": [],
   "source": [
    "model=joblib.load(\"/home/all4data118/buckets/b1/exp/model_es_b/client_product/model_trial_10_seed_191_rmse_42.8850.joblib\")\n",
    "#buckets/b1/exp/model_es_b/client_product/model_trial_10_seed_191_rmse_42.8850.joblib"
   ]
  },
  {
   "cell_type": "code",
   "execution_count": 19,
   "metadata": {},
   "outputs": [
    {
     "data": {
      "text/plain": [
       "0"
      ]
     },
     "execution_count": 19,
     "metadata": {},
     "output_type": "execute_result"
    }
   ],
   "source": [
    "model.best_iteration_"
   ]
  },
  {
   "cell_type": "code",
   "execution_count": 20,
   "metadata": {},
   "outputs": [],
   "source": [
    "# Make predictions+\n",
    "model=joblib.load(\"/home/all4data118/buckets/b1/exp/model_es_b/client_product/model_trial_44_seed_173_rmse_36.8573.joblib\")\n",
    "predictions = model.predict(X_predict, num_iteration=model.best_iteration_)\n"
   ]
  },
  {
   "cell_type": "code",
   "execution_count": 25,
   "metadata": {},
   "outputs": [],
   "source": [
    "# Make predictions+\n",
    "model=joblib.load(\"/home/all4data118/buckets/b1/exp/model_es_b/client_product/model_trial_44_seed_173_rmse_36.8573.joblib\")\n",
    "predictions = model.predict(X_predict, num_iteration=model.best_iteration_)"
   ]
  },
  {
   "cell_type": "code",
   "execution_count": null,
   "metadata": {},
   "outputs": [],
   "source": [
    "import glob\n",
    "\n",
    "# Specify the directory pattern\n",
    "directory_pattern = \"/home/all4data118/buckets/b1/exp/model_es_b/client_product/model_trial*\"\n",
    "\n",
    "# Use glob to list directories matching the pattern\n",
    "matching_directories = glob.glob(directory_pattern)\n"
   ]
  },
  {
   "cell_type": "code",
   "execution_count": null,
   "metadata": {},
   "outputs": [],
   "source": [
    "import re\n",
    "\n",
    "# Function to extract the model_trial value from the filename\n",
    "def extract_trial_number(filename):\n",
    "    match = re.search(r'model_trial_(\\d+)', filename)\n",
    "    return int(match.group(1)) if match else None\n",
    "\n",
    "# Filter directories based on the model_trial value\n",
    "filtered_directories = [\n",
    "    directory for directory in matching_directories\n",
    "    if 5 < extract_trial_number(directory) < 48\n",
    "]\n",
    "\n",
    "# Display the filtered directories\n",
    "filtered_directories"
   ]
  },
  {
   "cell_type": "code",
   "execution_count": null,
   "metadata": {},
   "outputs": [],
   "source": [
    "import lightgbm as lgb\n",
    "import joblib\n",
    "import pandas as pd\n",
    "import re\n",
    "# Define the paths to the saved models\n",
    "model_paths = [\n",
    "    \"/home/all4data118/buckets/b1/exp/model_es_b/client_product/model_trial_45_seed_317_rmse_43.9012.joblib\",\n",
    "    \"/home/all4data118/buckets/b1/exp/model_es_b/client_product/model_trial_47_seed_331_rmse_43.8473.joblib\",\n",
    "    \"/home/all4data118/buckets/b1/exp/model_es_b/client_product/model_trial_41_seed_139_rmse_43.7172.joblib\",\n",
    "    \"/home/all4data118/buckets/b1/exp/model_es_b/client_product/model_trial_42_seed_163_rmse_43.7149.joblib\",\n",
    "    \"/home/all4data118/buckets/b1/exp/model_es_b/client_product/model_trial_21_seed_397_rmse_43.6105.joblib\",\n",
    "    \"/home/all4data118/buckets/b1/exp/model_es_b/client_product/model_trial_31_seed_151_rmse_43.4959.joblib\",\n",
    "    \"/home/all4data118/buckets/b1/exp/model_es_b/client_product/model_trial_32_seed_389_rmse_43.4959.joblib\",\n",
    "    \"/home/all4data118/buckets/b1/exp/model_es_b/client_product/model_trial_39_seed_223_rmse_43.4959.joblib\",\n",
    "    \"/home/all4data118/buckets/b1/exp/model_es_b/client_product/model_trial_48_seed_179_rmse_42.8001.joblib\",\n",
    "    \"/home/all4data118/buckets/b1/exp/model_es_b/client_product/model_trial_27_seed_157_rmse_41.3726.joblib\",\n",
    "    \"/home/all4data118/buckets/b1/exp/model_es_b/client_product/model_trial_0_seed_127_rmse_40.5212.joblib\",\n",
    "    \"/home/all4data118/buckets/b1/exp/model_es_b/client_product/model_trial_44_seed_173_rmse_36.8573.joblib\"\n",
    "]\n",
    "\n",
    "#model_paths=filtered_directories\n",
    "\n",
    "# Create an empty DataFrame to store predictions\n",
    "predictions_df = pd.DataFrame()\n",
    "\n",
    "# Assuming X_predict is your dataset\n",
    "# Adjust the following line based on your data\n",
    "\n",
    "# Loop through each model, make predictions, and store in the DataFrame\n",
    "for model_path in model_paths:\n",
    "    # Load the model\n",
    "    model = joblib.load(model_path)\n",
    "\n",
    "    # Make predictions\n",
    "    predictions = model.predict(X_predict, num_iteration=model.best_iteration_)\n",
    "\n",
    "    # Extract trial number, seed, and RMSE from the model path using regular expressions\n",
    "    match = re.search(r\"model_trial_(\\d+)_seed_(\\d+)_rmse_(\\d+\\.\\d+)\", model_path)\n",
    "    if match:\n",
    "        trial_number, seed, rmse = map(float, match.groups())\n",
    "\n",
    "        # Create a column name for the predictions based on trial number, seed, and RMSE\n",
    "        column_name = f\"trial_{int(trial_number)}_seed_{int(seed)}_rmse_{rmse:.4f}\"\n",
    "\n",
    "        # Add predictions to the DataFrame\n",
    "        predictions_df[column_name] = predictions\n",
    "\n",
    "# Display or further process the predictions_df\n",
    "print(predictions_df)"
   ]
  },
  {
   "cell_type": "code",
   "execution_count": null,
   "metadata": {},
   "outputs": [],
   "source": [
    "predictions_df['product_customer_id'] = 'P' + X_predict['product_id'].astype(str) + '-C' + X_predict['customer_id'].astype(str)\n"
   ]
  },
  {
   "cell_type": "code",
   "execution_count": null,
   "metadata": {},
   "outputs": [],
   "source": [
    "predictions_df.to_csv('/home/all4data118/buckets/b1/exp/model_es_b/client_product/submmit_completo_2.csv')"
   ]
  },
  {
   "cell_type": "code",
   "execution_count": null,
   "metadata": {},
   "outputs": [],
   "source": [
    "numeric_columns = predictions_df.select_dtypes(include='number').columns\n"
   ]
  },
  {
   "cell_type": "code",
   "execution_count": null,
   "metadata": {},
   "outputs": [],
   "source": [
    "# Filter out non-numeric columns\n",
    "numeric_columns = predictions_df.select_dtypes(include='number').columns\n",
    "\n",
    "# Create a new column 'row_avg' with the row-wise averages for numeric columns\n",
    "predictions_df['tn'] = predictions_df[numeric_columns].mean(axis=1)\n",
    "\n",
    "# Display t"
   ]
  },
  {
   "cell_type": "code",
   "execution_count": null,
   "metadata": {},
   "outputs": [],
   "source": [
    "predictions_df['tn']=np.where(predictions_df['tn'] < 0, 0, predictions_df['tn'])"
   ]
  },
  {
   "cell_type": "code",
   "execution_count": null,
   "metadata": {},
   "outputs": [],
   "source": [
    "predictions_df[['product_customer_id','tn']].sort_values('product_customer_id').to_csv('/home/all4data118/buckets/b1/exp/model_es_b/client_product/sub_file_test_1.csv', index=False)"
   ]
  }
 ],
 "metadata": {
  "kernelspec": {
   "display_name": "Python 3 (ipykernel)",
   "language": "python",
   "name": "python3"
  },
  "language_info": {
   "codemirror_mode": {
    "name": "ipython",
    "version": 3
   },
   "file_extension": ".py",
   "mimetype": "text/x-python",
   "name": "python",
   "nbconvert_exporter": "python",
   "pygments_lexer": "ipython3",
   "version": "3.8.13"
  }
 },
 "nbformat": 4,
 "nbformat_minor": 4
}
