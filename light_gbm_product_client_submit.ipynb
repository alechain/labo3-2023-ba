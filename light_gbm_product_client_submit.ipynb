{
 "cells": [
  {
   "cell_type": "code",
   "execution_count": 1,
   "metadata": {},
   "outputs": [],
   "source": [
    "import numpy as np\n",
    "import pandas as pd\n",
    "import seaborn as sns\n",
    "import matplotlib.pyplot as plt\n"
   ]
  },
  {
   "cell_type": "code",
   "execution_count": null,
   "metadata": {},
   "outputs": [],
   "source": [
    "import numpy as np\n",
    "import pandas as pd\n",
    "import seaborn as sns\n",
    "import matplotlib.pyplot as plt\n",
    "import joblib\n",
    "from sklearn.preprocessing import LabelEncoder"
   ]
  },
  {
   "cell_type": "code",
   "execution_count": null,
   "metadata": {},
   "outputs": [],
   "source": [
    "df = pd.read_parquet('/home/all4data118/buckets/b1/datasets/df_final_sellout_prod_client_final_total.parquet')\n",
    "tn_mas_cols = df.filter(like='tn_mas_1').columns\n",
    "print(tn_mas_cols)\n",
    "\n",
    "# train y test\n",
    "# train y test\n",
    "df=df[df.customer_id.isin([10001, 10002, 10003, 10004, 10005, 10006, 10007, 10008, 10009, 10011, 10012, 10013] )]\n",
    "df=df[df.product_id.isin([20001, 20002, 20003, 20004, 20005, 20006, 20007, 20009, 20011, 20032] )]\n",
    "df=df.reset_index(drop=True)\n",
    "X_predict=df.copy()"
   ]
  },
  {
   "cell_type": "code",
   "execution_count": null,
   "metadata": {},
   "outputs": [],
   "source": [
    "X_predict=X_predict.drop(['id_row','tn_mas_2'],axis=1)\n"
   ]
  },
  {
   "cell_type": "code",
   "execution_count": null,
   "metadata": {},
   "outputs": [],
   "source": [
    "# Identify categorical features based on their data types\n",
    "categorical_features = X_predict.select_dtypes(include=['object']).columns.tolist()\n"
   ]
  },
  {
   "cell_type": "code",
   "execution_count": null,
   "metadata": {},
   "outputs": [],
   "source": [
    "# para subir depsues\n",
    "# Load the label encoders from the file\n",
    "label_encoders = joblib.load('/home/all4data118/buckets/b1/exp/model_es_b/client_product/label_encoders_2.joblib')\n",
    "\n",
    "# Assuming X_predict is your dataset and categorical_features is the list of categorical feature names\n",
    "# Apply the label encoders to the respective features\n",
    "# Apply the label encoders to the respective features\n",
    "for feature, label_encoder in label_encoders.items():\n",
    "    # Convert non-numeric values to numeric (e.g., using LabelEncoder directly)\n",
    "    X_predict[feature] = label_encoder.transform(X_predict[feature])\n"
   ]
  },
  {
   "cell_type": "code",
   "execution_count": null,
   "metadata": {},
   "outputs": [],
   "source": [
    "X_predict=X_predict[X_predict.periodo==201912].reset_index(drop=True)"
   ]
  },
  {
   "cell_type": "code",
   "execution_count": null,
   "metadata": {},
   "outputs": [],
   "source": [
    "import optuna\n",
    "import numpy as np\n",
    "from lightgbm import LGBMRegressor\n",
    "from sklearn.metrics import mean_squared_error\n",
    "import joblib\n",
    "\n",
    "from lightgbm import LGBMRegressor\n",
    "import numpy as np\n",
    "import pandas as pd\n",
    "from sklearn.model_selection import KFold\n",
    "from sklearn.metrics import mean_squared_error\n",
    "from sklearn.preprocessing import LabelEncoder\n",
    "from sklearn.model_selection import train_test_split\n",
    "import optuna\n",
    "\n"
   ]
  },
  {
   "cell_type": "code",
   "execution_count": null,
   "metadata": {},
   "outputs": [],
   "source": [
    "import lightgbm as lgb\n",
    "import joblib\n",
    "import pandas as pd\n",
    "\n",
    "# Define the paths to the saved models\n",
    "model_paths = [\n",
    "    \"/home/all4data118/exp/model_es_a/product/model_trial_45_seed_317_rmse_43.9012.joblib\",\n",
    "    \"/home/all4data118/exp/model_es_a/product/model_trial_47_seed_331_rmse_43.8473.joblib\",\n",
    "    \"/home/all4data118/exp/model_es_a/product/model_trial_41_seed_139_rmse_43.7172.joblib\",\n",
    "    \"/home/all4data118/exp/model_es_a/product/model_trial_42_seed_163_rmse_43.7149.joblib\",\n",
    "    \"/home/all4data118/exp/model_es_a/product/model_trial_21_seed_397_rmse_43.6105.joblib\",\n",
    "    \"/home/all4data118/exp/model_es_a/product/model_trial_31_seed_151_rmse_43.4960.joblib\",\n",
    "    \"/home/all4data118/exp/model_es_a/product/model_trial_32_seed_389_rmse_43.4960.joblib\",\n",
    "    \"/home/all4data118/exp/model_es_a/product/model_trial_39_seed_223_rmse_43.4960.joblib\",\n",
    "    \"/home/all4data118/exp/model_es_a/product/model_trial_48_seed_179_rmse_42.8001.joblib\",\n",
    "    \"/home/all4data118/exp/model_es_a/product/model_trial_27_seed_157_rmse_41.3726.joblib\",\n",
    "    \"/home/all4data118/exp/model_es_a/product/model_trial_0_seed_127_rmse_40.5212.joblib\",\n",
    "    \"/home/all4data118/exp/model_es_a/product/model_trial_44_seed_173_rmse_36.8573.joblib\"\n",
    "]\n",
    "\n",
    "# Create an empty DataFrame to store predictions\n",
    "predictions_df = pd.DataFrame()\n",
    "\n",
    "# Assuming X_predict is your dataset\n",
    "# Adjust the following line based on your data\n",
    "X_predict = pd.DataFrame(...)  # Replace ... with your data\n",
    "\n",
    "# Loop through each model, make predictions, and store in the DataFrame\n",
    "for model_path in model_paths:\n",
    "    # Load the model\n",
    "    model = joblib.load(model_path)\n",
    "\n",
    "    # Make predictions\n",
    "    predictions = model.predict(X_predict, num_iteration=model.best_iteration)\n",
    "\n",
    "    # Extract trial number, seed, and RMSE from the model path\n",
    "    trial_number, seed, rmse = map(float, model_path.split('_')[3:6])\n",
    "\n",
    "    # Create a column name for the predictions based on trial number, seed, and RMSE\n",
    "    column_name = f\"trial_{int(trial_number)}_seed_{int(seed)}_rmse_{rmse:.4f}\"\n",
    "\n",
    "    # Add predictions to the DataFrame\n",
    "    predictions_df[column_name] = predictions\n",
    "\n",
    "# Display or further process the predictions_df\n",
    "print(predictions_df)"
   ]
  },
  {
   "cell_type": "code",
   "execution_count": null,
   "metadata": {},
   "outputs": [],
   "source": []
  },
  {
   "cell_type": "code",
   "execution_count": null,
   "metadata": {},
   "outputs": [],
   "source": []
  }
 ],
 "metadata": {
  "kernelspec": {
   "display_name": "base",
   "language": "python",
   "name": "python3"
  },
  "language_info": {
   "codemirror_mode": {
    "name": "ipython",
    "version": 3
   },
   "file_extension": ".py",
   "mimetype": "text/x-python",
   "name": "python",
   "nbconvert_exporter": "python",
   "pygments_lexer": "ipython3",
   "version": "3.8.13"
  }
 },
 "nbformat": 4,
 "nbformat_minor": 2
}
